{
 "cells": [
  {
   "cell_type": "code",
   "execution_count": 1,
   "metadata": {},
   "outputs": [],
   "source": [
    "import pandas as pd\n",
    "import numpy as np"
   ]
  },
  {
   "cell_type": "code",
   "execution_count": 10,
   "metadata": {},
   "outputs": [
    {
     "data": {
      "text/plain": [
       "2011-01-01 00:00:00    0.231011\n",
       "2011-01-01 01:00:00   -0.854492\n",
       "2011-01-01 02:00:00   -0.253740\n",
       "2011-01-01 03:00:00   -0.760930\n",
       "2011-01-01 04:00:00    0.073141\n",
       "                         ...   \n",
       "2011-01-03 19:00:00    0.409044\n",
       "2011-01-03 20:00:00    2.739928\n",
       "2011-01-03 21:00:00   -0.193573\n",
       "2011-01-03 22:00:00    1.024251\n",
       "2011-01-03 23:00:00   -1.421514\n",
       "Freq: H, Length: 72, dtype: float64"
      ]
     },
     "execution_count": 10,
     "metadata": {},
     "output_type": "execute_result"
    }
   ],
   "source": [
    "rng = pd.date_range('1/1/2011', periods=72, freq='H')\n",
    "ts = pd.Series(np.random.randn(len(rng)), index=rng)\n",
    "ts"
   ]
  },
  {
   "cell_type": "code",
   "execution_count": 11,
   "metadata": {},
   "outputs": [
    {
     "data": {
      "text/plain": [
       "2011-01-01 00:00:00    0.231011\n",
       "2011-01-01 00:45:00    0.231011\n",
       "2011-01-01 01:30:00   -0.854492\n",
       "2011-01-01 02:15:00   -0.253740\n",
       "2011-01-01 03:00:00   -0.760930\n",
       "                         ...   \n",
       "2011-01-03 19:30:00    0.409044\n",
       "2011-01-03 20:15:00    2.739928\n",
       "2011-01-03 21:00:00   -0.193573\n",
       "2011-01-03 21:45:00   -0.193573\n",
       "2011-01-03 22:30:00    1.024251\n",
       "Freq: 45T, Length: 95, dtype: float64"
      ]
     },
     "execution_count": 11,
     "metadata": {},
     "output_type": "execute_result"
    }
   ],
   "source": [
    "converted = ts.asfreq('45Min', method='pad')\n",
    "converted"
   ]
  },
  {
   "cell_type": "code",
   "execution_count": 12,
   "metadata": {},
   "outputs": [],
   "source": [
    "converted = ts.asfreq('90Min', method = 'bfill')"
   ]
  },
  {
   "cell_type": "code",
   "execution_count": 13,
   "metadata": {},
   "outputs": [
    {
     "data": {
      "text/plain": [
       "2011-01-01   -0.964037\n",
       "2011-01-02    3.675936\n",
       "2011-01-03    3.866186\n",
       "Freq: D, dtype: float64"
      ]
     },
     "execution_count": 13,
     "metadata": {},
     "output_type": "execute_result"
    }
   ],
   "source": [
    "ts.resample('D').sum()"
   ]
  }
 ],
 "metadata": {
  "kernelspec": {
   "display_name": "Python 3 (ipykernel)",
   "language": "python",
   "name": "python3"
  },
  "language_info": {
   "codemirror_mode": {
    "name": "ipython",
    "version": 3
   },
   "file_extension": ".py",
   "mimetype": "text/x-python",
   "name": "python",
   "nbconvert_exporter": "python",
   "pygments_lexer": "ipython3",
   "version": "3.10.0"
  },
  "widgets": {
   "state": {},
   "version": "1.1.1"
  }
 },
 "nbformat": 4,
 "nbformat_minor": 1
}
